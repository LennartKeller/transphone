{
 "cells": [
  {
   "cell_type": "code",
   "execution_count": 1,
   "metadata": {},
   "outputs": [],
   "source": [
    "import torch.optim as optim\n",
    "from torch.utils.data import DataLoader\n",
    "from livelossplot import PlotLosses"
   ]
  },
  {
   "cell_type": "code",
   "execution_count": 2,
   "metadata": {},
   "outputs": [],
   "source": [
    "class Vocab:\n",
    "    \n",
    "    def __init__(self, word_set):\n",
    "        self.words = ['<pad>', '<eos>']+list(sorted(word_set))\n",
    "        self.map = dict()\n",
    "        \n",
    "        for i, word in enumerate(self.words):\n",
    "            self.map[word] = i\n",
    "            \n",
    "            \n",
    "    def atoi(self, word):\n",
    "        \n",
    "        return self.map[word]\n",
    "    \n",
    "    def itoa(self, idx):\n",
    "        return self.words[idx]"
   ]
  },
  {
   "cell_type": "code",
   "execution_count": 3,
   "metadata": {},
   "outputs": [],
   "source": [
    "v = Vocab(set(['a','b', 'c']))"
   ]
  },
  {
   "cell_type": "code",
   "execution_count": 4,
   "metadata": {},
   "outputs": [],
   "source": [
    "from allograph.config import AllographConfig\n",
    "\n",
    "\n",
    "def read_dataset(lang_id='eng'):\n",
    "\n",
    "    r = open(AllographConfig.lang_path / lang_id / 'new_input', 'r')\n",
    "\n",
    "    phoneme_lst = []\n",
    "    grapheme_lst = []\n",
    "    \n",
    "    phoneme_set = set()\n",
    "    grapheme_set = set()\n",
    "\n",
    "    for line in r:\n",
    "        phoneme_str, grapheme_str = line.strip().split('\\t')\n",
    "        phonemes = phoneme_str.split()\n",
    "        graphemes = grapheme_str.split()\n",
    "        phoneme_lst.append(phonemes)\n",
    "        grapheme_lst.append(graphemes)\n",
    "        phoneme_set.update(phonemes)\n",
    "        grapheme_set.update(graphemes)\n",
    "        \n",
    "    phoneme_vocab = Vocab(phoneme_set)\n",
    "    grapheme_vocab = Vocab(grapheme_set)\n",
    "    \n",
    "    return Dataset(phoneme_lst, grapheme_lst, phoneme_vocab, grapheme_vocab)\n",
    "\n",
    "\n",
    "class Dataset:\n",
    "\n",
    "    def __init__(self, phoneme_lst, grapheme_lst, phoneme_vocab, grapheme_vocab):\n",
    "\n",
    "        self.phoneme_lst = phoneme_lst\n",
    "        self.grapheme_lst = grapheme_lst\n",
    "        self.phoneme_vocab = phoneme_vocab\n",
    "        self.grapheme_vocab = grapheme_vocab\n",
    "\n",
    "    def __getitem__(self, item):\n",
    "        \n",
    "        phones = self.phoneme_lst[item]\n",
    "        graphemes = self.grapheme_lst[item]\n",
    "        \n",
    "        phone_ids = [self.phoneme_vocab.atoi(phone) for phone in phones]\n",
    "        grapheme_ids = [self.grapheme_vocab.atoi(grapheme) for grapheme in graphemes]\n",
    "        \n",
    "\n",
    "        return (torch.LongTensor(phone_ids), torch.LongTensor(grapheme_ids))\n",
    "\n",
    "    def __len__(self):\n",
    "        return len(self.phoneme_lst)"
   ]
  },
  {
   "cell_type": "code",
   "execution_count": 5,
   "metadata": {},
   "outputs": [],
   "source": [
    "data = read_dataset()"
   ]
  },
  {
   "cell_type": "code",
   "execution_count": 6,
   "metadata": {},
   "outputs": [
    {
     "data": {
      "text/plain": [
       "166"
      ]
     },
     "execution_count": 6,
     "metadata": {},
     "output_type": "execute_result"
    }
   ],
   "source": [
    "len(data.phoneme_vocab.map)"
   ]
  },
  {
   "cell_type": "code",
   "execution_count": 7,
   "metadata": {},
   "outputs": [
    {
     "data": {
      "text/plain": [
       "(tensor([66, 69, 60, 56, 65, 71]), tensor([28, 33, 32, 29, 14, 18]))"
      ]
     },
     "execution_count": 7,
     "metadata": {},
     "output_type": "execute_result"
    }
   ],
   "source": [
    "data[0]"
   ]
  },
  {
   "cell_type": "code",
   "execution_count": 12,
   "metadata": {},
   "outputs": [],
   "source": [
    "def collate(xy_lst):\n",
    "    x_lst = [xy[0] for xy in xy_lst]\n",
    "    y_lst = [xy[1] for xy in xy_lst]\n",
    "    \n",
    "    x = pad_list(x_lst)\n",
    "    y = pad_list(y_lst)\n",
    "    \n",
    "    return x,y\n",
    "    \n",
    "def pad_list(tensor_lst):\n",
    "    max_length = max(t.size(0) for t in tensor_lst)\n",
    "    batch_size = len(tensor_lst)\n",
    "    \n",
    "    padded_tensor = tensor_lst[0].new(batch_size, max_length, *tensor_lst[0].size()[1:]).fill_(0)\n",
    "    for i, t in enumerate(tensor_lst):\n",
    "        padded_tensor[i,:t.size(0)] = t\n",
    "        \n",
    "    return padded_tensor"
   ]
  },
  {
   "cell_type": "code",
   "execution_count": 9,
   "metadata": {},
   "outputs": [],
   "source": [
    "loader = DataLoader(data, shuffle=True, batch_size=8, collate_fn=collate)"
   ]
  },
  {
   "cell_type": "code",
   "execution_count": 10,
   "metadata": {},
   "outputs": [],
   "source": [
    "it = iter(loader)"
   ]
  },
  {
   "cell_type": "code",
   "execution_count": 13,
   "metadata": {},
   "outputs": [
    {
     "data": {
      "text/plain": [
       "(tensor([[26, 63, 54, 52, 77, 52, 69,  0,  0],\n",
       "         [55, 69, 52, 72, 58, 59, 71, 70,  0],\n",
       "         [54, 59, 66, 63, 66,  0,  0,  0,  0],\n",
       "         [57, 60, 77, 58, 60, 58,  0,  0,  0],\n",
       "         [56, 67, 59, 56, 64, 56, 69, 52, 63],\n",
       "         [55, 60, 66, 67, 71, 69, 60, 54,  0],\n",
       "         [57, 63, 56, 52, 64,  0,  0,  0,  0],\n",
       "         [58,  6, 65, 60, 58, 59, 71,  0,  0]]),\n",
       " tensor([[ 2, 12, 11, 29, 23, 27,  0,  0,  0],\n",
       "         [ 4, 33, 27,  7,  2,  0,  0,  0,  0],\n",
       "         [19, 15, 36, 12, 15, 36,  0,  0,  0],\n",
       "         [ 7, 32, 23, 31, 32, 31,  0,  0,  0],\n",
       "         [30,  7, 30, 13, 29, 33, 29, 12,  0],\n",
       "         [ 4,  2, 32, 15, 16, 18, 33, 32, 11],\n",
       "         [ 7, 12,  9, 13,  0,  0,  0,  0,  0],\n",
       "         [31, 29, 14,  2, 32, 18,  0,  0,  0]]))"
      ]
     },
     "execution_count": 13,
     "metadata": {},
     "output_type": "execute_result"
    }
   ],
   "source": [
    "next(it)"
   ]
  },
  {
   "cell_type": "code",
   "execution_count": 31,
   "metadata": {},
   "outputs": [],
   "source": [
    "class Encoder(nn.Module):\n",
    "    \n",
    "    def __init__(self, vocab_size, hidden_size, layer_size):\n",
    "        super().__init__()\n",
    "        \n",
    "        self.embed = nn.Embedding(vocab_size, hidden_size)\n",
    "        self.rnn = nn.LSTM(hidden_size, hidden_size, layer_size, batch_first=True)\n",
    "        \n",
    "    def forward(self, input_tensor):\n",
    "        embed = self.embed(input_tensor)\n",
    "        output, (hidden, _) = self.rnn(embed)\n",
    "        \n",
    "        return output, hidden\n",
    "    \n",
    "    \n",
    "class Decoder(nn.Module):\n",
    "    \n",
    "    def __init__(self, vocab_size, hidden_size):\n",
    "        super().__init__()\n",
    "        self.embed = nn.Embedding(vocab_size, hidden_size)\n",
    "        self.rnn = nn.LSTM(hidden_size, hidden_size, 1, batch_first=True)\n",
    "        self.linear = nn.Linear(hidden_size, vocab_size)\n",
    "        self.logsoftmax = nn.LogSoftmax(dim=2)\n",
    "        \n",
    "    def forward(self, input_tensor, prev_hidden, prev_cell):\n",
    "        # input: [B]\n",
    "        \n",
    "        embed = self.embed(input_tensor)\n",
    "        output, (hidden, cell) = self.rnn(embed, (prev_hidden, prev_cell))\n",
    "        #print('after rnn', output)\n",
    "        output = self.linear(output)\n",
    "        #print('after linear:', output)\n",
    "        output = self.logsoftmax(output)\n",
    "        #print('after softmax', output)\n",
    "        \n",
    "        return output, hidden, cell\n",
    "\n",
    "class G2P(nn.Module):\n",
    "    \n",
    "    def __init__(self):\n",
    "        super().__init__()\n",
    "\n",
    "        self.encoder = Encoder(200, 128, 1)\n",
    "        self.decoder = Decoder(200, 128)     "
   ]
  },
  {
   "cell_type": "code",
   "execution_count": 15,
   "metadata": {},
   "outputs": [],
   "source": [
    "def pad_sos_eos(ys, sos, eos):\n",
    "    \n",
    "    batch_size = len(ys)\n",
    "\n",
    "    sos_tensor = ys.new_zeros((batch_size, 1)).fill_(sos)\n",
    "    y_in = torch.cat([sos_tensor, ys], dim=1)\n",
    "    \n",
    "    y_out = []\n",
    "    \n",
    "    zero_tensor = ys.new_zeros((batch_size, 1))    \n",
    "    extended_ys = torch.cat([ys, zero_tensor], dim=1)\n",
    "    \n",
    "    for y in extended_ys:\n",
    "        eos_idx = (y==0).nonzero()[0].item()\n",
    "        y[eos_idx] = eos        \n",
    "        y_out.append(y)\n",
    "        \n",
    "    y_out = pad_list(y_out)\n",
    "    return y_in, y_out"
   ]
  },
  {
   "cell_type": "code",
   "execution_count": 16,
   "metadata": {},
   "outputs": [],
   "source": [
    "it = iter(loader)\n",
    "batch = next(it)"
   ]
  },
  {
   "cell_type": "code",
   "execution_count": 17,
   "metadata": {},
   "outputs": [
    {
     "data": {
      "text/plain": [
       "(tensor([[52, 74, 57, 72, 63,  0,  0,  0,  0,  0,  0,  0],\n",
       "         [64, 66, 71, 59, 53, 52, 63, 63, 56, 55,  0,  0],\n",
       "         [70, 67, 52, 71, 60, 52, 71, 56,  0,  0,  0,  0],\n",
       "         [69, 56, 56, 55,  0,  0,  0,  0,  0,  0,  0,  0],\n",
       "         [60, 65, 71, 56, 65, 71, 60, 73, 56,  0,  0,  0],\n",
       "         [52, 55, 61, 66, 60, 65, 56, 55,  0,  0,  0,  0],\n",
       "         [64, 56, 71, 52, 64, 66, 69, 67, 59, 60, 70, 64],\n",
       "         [70, 59, 56, 56, 69,  0,  0,  0,  0,  0,  0,  0]]),\n",
       " tensor([[28,  7, 36, 12,  0,  0,  0,  0,  0,  0,  0],\n",
       "         [13, 15, 39,  3, 28, 12,  4,  0,  0,  0,  0],\n",
       "         [17, 16,  6, 32, 35,  9,  6, 32, 18,  0,  0],\n",
       "         [33,  9,  4,  0,  0,  0,  0,  0,  0,  0,  0],\n",
       "         [32, 14, 18, 30, 14, 18, 32, 21,  0,  0,  0],\n",
       "         [29,  5, 28, 32, 14,  4,  0,  0,  0,  0,  0],\n",
       "         [13, 30, 18, 29, 13, 28,  7, 32, 23, 29, 13],\n",
       "         [35, 32, 29,  0,  0,  0,  0,  0,  0,  0,  0]]))"
      ]
     },
     "execution_count": 17,
     "metadata": {},
     "output_type": "execute_result"
    }
   ],
   "source": [
    "batch"
   ]
  },
  {
   "cell_type": "code",
   "execution_count": 41,
   "metadata": {},
   "outputs": [
    {
     "data": {
      "image/png": "[encoded data removed]",
      "text/plain": [
       "<Figure size 1200x800 with 2 Axes>"
      ]
     },
     "metadata": {},
     "output_type": "display_data"
    },
    {
     "name": "stdout",
     "output_type": "stream",
     "text": [
      "Loss\n",
      "\tloss             \t (min:    1.320, max:   63.735, cur:    1.352)\n"
     ]
    }
   ],
   "source": [
    "model = G2P()\n",
    "opt = optim.SGD(model.parameters(), lr=0.05)\n",
    "criterion = nn.NLLLoss(ignore_index=0)\n",
    "\n",
    "#it = iter(loader)\n",
    "\n",
    "liveloss = PlotLosses()\n",
    "\n",
    "for i in range(200):\n",
    "\n",
    "    #batch = next(it)\n",
    "    x, y = batch\n",
    "    #print(x[0])\n",
    "    #print(y[0])\n",
    "    batch_size = x.shape[0]\n",
    "\n",
    "    output, prev_hidden = model.encoder(x)\n",
    "    prev_cell = x.new_zeros(1, batch_size, 128)\n",
    "\n",
    "    ys_in, ys_out = pad_sos_eos(y, 1, 1)\n",
    "    ys_in = ys_in.transpose(1,0)\n",
    "    ys_out = ys_out.transpose(1,0)\n",
    "\n",
    "    opt.zero_grad()\n",
    "    \n",
    "    loss = 0\n",
    "    log = {}\n",
    "\n",
    "    for i in range(len(ys_in)):\n",
    "        y_in = ys_in[i].view(batch_size, 1)\n",
    "        y_out = ys_out[i]\n",
    "        output, prev_hidden, prev_cell = model.decoder(y_in, prev_hidden, prev_cell)\n",
    "\n",
    "        output = output.squeeze()\n",
    "        #print(y_out.shape)\n",
    "        loss += criterion(output, y_out)\n",
    "\n",
    "    loss.backward()\n",
    "    opt.step()\n",
    "    \n",
    "    log['loss'] = loss.item()\n",
    "    liveloss.update(log)\n",
    "    liveloss.send()"
   ]
  },
  {
   "cell_type": "code",
   "execution_count": 20,
   "metadata": {},
   "outputs": [],
   "source": [
    "a = torch.LongTensor([1,3,2])"
   ]
  },
  {
   "cell_type": "code",
   "execution_count": 23,
   "metadata": {},
   "outputs": [
    {
     "data": {
      "text/plain": [
       "1"
      ]
     },
     "execution_count": 23,
     "metadata": {},
     "output_type": "execute_result"
    }
   ],
   "source": [
    "a.topk(1)[1].item()"
   ]
  },
  {
   "cell_type": "code",
   "execution_count": 42,
   "metadata": {},
   "outputs": [
    {
     "name": "stdout",
     "output_type": "stream",
     "text": [
      "[28, 7, 36, 12, 1]\n"
     ]
    }
   ],
   "source": [
    "model.eval()\n",
    "\n",
    "    \n",
    "x = torch.LongTensor([[52, 74, 57, 72, 63,  0,  0,  0,  0,  0,  0,  0]])\n",
    "\n",
    "batch_size = 1\n",
    "\n",
    "output, prev_hidden = model.encoder(x)\n",
    "prev_cell = prev_hidden.new_zeros((1, batch_size, 128))\n",
    "\n",
    "#print(prev_hidden)\n",
    "\n",
    "#y_in = torch.LongTensor([[1]])\n",
    "y_out = []\n",
    "\n",
    "w = 1\n",
    "\n",
    "while(True):\n",
    "    y_in = torch.LongTensor([[w]])\n",
    "    output, prev_hidden, prev_cell = model.decoder(y_in, prev_hidden, prev_cell)\n",
    "    output = output.squeeze()\n",
    "    #print(output)\n",
    "    w = output.data.topk(1)[1].item()\n",
    "    y_out.append(w)\n",
    "    \n",
    "    if w == 1 or len(y_out)>10:\n",
    "        break\n",
    "\n",
    "print(y_out)"
   ]
  },
  {
   "cell_type": "code",
   "execution_count": 43,
   "metadata": {},
   "outputs": [
    {
     "data": {
      "image/png": "[encoded data removed]",
      "text/plain": [
       "<Figure size 1200x800 with 2 Axes>"
      ]
     },
     "metadata": {},
     "output_type": "display_data"
    },
    {
     "name": "stdout",
     "output_type": "stream",
     "text": [
      "Loss\n",
      "\tloss             \t (min:    0.036, max:   10.621, cur:    0.036)\n"
     ]
    }
   ],
   "source": [
    "model = G2P()\n",
    "opt = optim.SGD(model.parameters(), lr=0.05)\n",
    "criterion = nn.NLLLoss(ignore_index=0)\n",
    "\n",
    "#it = iter(loader)\n",
    "\n",
    "liveloss = PlotLosses()\n",
    "\n",
    "batch = (torch.LongTensor([[2], [3]]), torch.LongTensor([[2], [3]]))\n",
    "\n",
    "for i in range(200):\n",
    "\n",
    "    #batch = next(it)\n",
    "    x, y = batch\n",
    "    #print(x[0])\n",
    "    #print(y[0])\n",
    "    batch_size = x.shape[0]\n",
    "\n",
    "    output, prev_hidden = model.encoder(x)\n",
    "    prev_cell = x.new_zeros(1, batch_size, 128)\n",
    "\n",
    "    ys_in, ys_out = pad_sos_eos(y, 1, 1)\n",
    "    ys_in = ys_in.transpose(1,0)\n",
    "    ys_out = ys_out.transpose(1,0)\n",
    "\n",
    "    opt.zero_grad()\n",
    "    \n",
    "    loss = 0\n",
    "    log = {}\n",
    "\n",
    "    for i in range(len(ys_in)):\n",
    "        y_in = ys_in[i].view(batch_size, 1)\n",
    "        y_out = ys_out[i]\n",
    "        output, prev_hidden, prev_cell = model.decoder(y_in, prev_hidden, prev_cell)\n",
    "\n",
    "        output = output.squeeze()\n",
    "        #print(y_out.shape)\n",
    "        loss += criterion(output, y_out)\n",
    "\n",
    "    loss.backward()\n",
    "    opt.step()\n",
    "    \n",
    "    log['loss'] = loss.item()\n",
    "    liveloss.update(log)\n",
    "    liveloss.send()"
   ]
  }
 ],
 "metadata": {
  "kernelspec": {
   "display_name": "Python 3",
   "language": "python",
   "name": "python3"
  },
  "language_info": {
   "codemirror_mode": {
    "name": "ipython",
    "version": 3
   },
   "file_extension": ".py",
   "mimetype": "text/x-python",
   "name": "python",
   "nbconvert_exporter": "python",
   "pygments_lexer": "ipython3",
   "version": "3.7.4"
  }
 },
 "nbformat": 4,
 "nbformat_minor": 4
}

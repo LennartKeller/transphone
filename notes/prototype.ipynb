{
 "cells": [
  {
   "cell_type": "code",
   "execution_count": 23,
   "metadata": {},
   "outputs": [],
   "source": [
    "import torch.optim as optim\n",
    "from torch.utils.data import random_split\n",
    "from torch.utils.data import DataLoader\n",
    "import torch.nn.functional as F\n",
    "from livelossplot import PlotLosses\n",
    "from transphone.data.utils import *\n",
    "from transphone.data.loader import *\n",
    "from transphone.data.dataset import *"
   ]
  },
  {
   "cell_type": "code",
   "execution_count": 8,
   "metadata": {},
   "outputs": [],
   "source": [
    "dataset = read_dataset('eng')\n",
    "training_cnt = int(len(dataset)*0.95)\n",
    "test_cnt = len(dataset) - training_cnt\n",
    "\n",
    "train_dataset, test_dataset = random_split(dataset, [training_cnt, test_cnt], generator=torch.Generator().manual_seed(42))\n",
    "loader = read_loader(train_dataset, 64)\n",
    "test_loader = read_loader(test_dataset, batch_size=1)"
   ]
  },
  {
   "cell_type": "code",
   "execution_count": 9,
   "metadata": {},
   "outputs": [],
   "source": [
    "data = read_dataset()"
   ]
  },
  {
   "cell_type": "code",
   "execution_count": 11,
   "metadata": {},
   "outputs": [
    {
     "data": {
      "text/plain": [
       "(tensor([66, 69, 60, 56, 65, 71]), tensor([28, 33, 32, 29, 14, 18]))"
      ]
     },
     "execution_count": 11,
     "metadata": {},
     "output_type": "execute_result"
    }
   ],
   "source": [
    "data[0]"
   ]
  },
  {
   "cell_type": "code",
   "execution_count": 12,
   "metadata": {},
   "outputs": [],
   "source": [
    "loader = DataLoader(data, shuffle=True, batch_size=8, collate_fn=collate)"
   ]
  },
  {
   "cell_type": "code",
   "execution_count": 13,
   "metadata": {},
   "outputs": [],
   "source": [
    "it = iter(loader)"
   ]
  },
  {
   "cell_type": "code",
   "execution_count": 14,
   "metadata": {},
   "outputs": [
    {
     "data": {
      "text/plain": [
       "(tensor([[45, 66, 69, 57, 52, 56, 65,  0,  0,  0],\n",
       "         [70, 68, 72, 60, 70, 59,  0,  0,  0,  0],\n",
       "         [47, 56, 65, 55, 52,  0,  0,  0,  0,  0],\n",
       "         [73, 52, 69, 76,  0,  0,  0,  0,  0,  0],\n",
       "         [33, 72, 63, 62,  0,  0,  0,  0,  0,  0],\n",
       "         [71, 52, 65, 62, 56, 69,  0,  0,  0,  0],\n",
       "         [67, 69, 60, 64, 56, 69,  0,  0,  0,  0],\n",
       "         [71, 69, 60, 67, 52, 69, 71, 60, 71, 56]]),\n",
       " tensor([[18, 28, 33, 21,  2, 32, 14,  0,  0,  0],\n",
       "         [17, 11, 22, 32, 35,  0,  0,  0,  0,  0],\n",
       "         [21, 30, 14,  4, 29,  0,  0,  0,  0,  0],\n",
       "         [21, 30, 29, 33,  9,  0,  0,  0,  0,  0],\n",
       "         [ 8, 37, 12, 11,  0,  0,  0,  0,  0,  0],\n",
       "         [18, 24, 26, 11, 29, 12,  0,  0,  0,  0],\n",
       "         [16, 33,  2, 32, 13, 29, 33,  0,  0,  0],\n",
       "         [18, 33,  2, 32, 16, 27, 18,  2, 32, 18]]))"
      ]
     },
     "execution_count": 14,
     "metadata": {},
     "output_type": "execute_result"
    }
   ],
   "source": [
    "next(it)"
   ]
  },
  {
   "cell_type": "code",
   "execution_count": 26,
   "metadata": {},
   "outputs": [],
   "source": [
    "class Encoder(nn.Module):\n",
    "    \n",
    "    def __init__(self, vocab_size, hidden_size, layer_size):\n",
    "        super().__init__()\n",
    "        \n",
    "        self.embed = nn.Embedding(vocab_size, hidden_size)\n",
    "        self.rnn = nn.LSTM(hidden_size, hidden_size, layer_size, batch_first=True)\n",
    "        \n",
    "    def forward(self, input_tensor):\n",
    "        embed = self.embed(input_tensor)\n",
    "        output, (hidden, _) = self.rnn(embed)\n",
    "        \n",
    "        return output, hidden\n",
    "    \n",
    "    \n",
    "class Decoder(nn.Module):\n",
    "    \n",
    "    def __init__(self, vocab_size, hidden_size):\n",
    "        super().__init__()\n",
    "        self.embed = nn.Embedding(vocab_size, hidden_size)\n",
    "        self.rnn = nn.LSTM(hidden_size, hidden_size, 1, batch_first=True)\n",
    "        self.linear = nn.Linear(hidden_size, vocab_size)\n",
    "        self.logsoftmax = nn.LogSoftmax(dim=2)\n",
    "        \n",
    "    def forward(self, input_tensor, prev_hidden, prev_cell):\n",
    "        # input: [B]\n",
    "        \n",
    "        embed = self.embed(input_tensor)\n",
    "        output, (hidden, cell) = self.rnn(embed, (prev_hidden, prev_cell))\n",
    "        #print('after rnn', output)\n",
    "        output = self.linear(output)\n",
    "        #print('after linear:', output)\n",
    "        output = self.logsoftmax(output)\n",
    "        #print('after softmax', output)\n",
    "        \n",
    "        return output, hidden, cell\n",
    "\n",
    "    \n",
    "class AttentionDecoder(nn.Module):\n",
    "    \n",
    "    def __init__(self, vocab_size, hidden_size):\n",
    "        super().__init__()\n",
    "        self.embed = nn.Embedding(vocab_size, hidden_size)\n",
    "        self.rnn = nn.LSTM(2*hidden_size, hidden_size, 1, batch_first=True)\n",
    "        self.linear = nn.Linear(hidden_size, vocab_size)\n",
    "        self.linearQ = nn.Linear(2*hidden_size, hidden_size)\n",
    "        self.logsoftmax = nn.LogSoftmax(dim=2)\n",
    "        \n",
    "    def forward(self, input_tensor, encoder_vector, prev_hidden, prev_cell):\n",
    "        # input: [B, 1]\n",
    "        # encoder: [B,T,H]\n",
    "        # prev_hidden: (1,B,H)\n",
    "        # prev_cell: (1,B,H)\n",
    "        \n",
    "        # [B,1,H]\n",
    "        embed = self.embed(input_tensor).squeeze(1)\n",
    "        \n",
    "        # [B,2H] -> [B,H,1]\n",
    "        Q = self.linearQ(torch.cat([embed, prev_hidden.squeeze(0)], dim=1)).unsqueeze(-1)\n",
    "        K = encoder_vector\n",
    "        \n",
    "        # [B,T,H] [B,H,1] -> [B,T,1] -> [B,T] \n",
    "        attn_weights = F.softmax(torch.bmm(K, Q).squeeze(2), dim=1)\n",
    "        \n",
    "        # [B,H,T]x[B,T,1] -> [B,H,1] -> [B,H]\n",
    "        attn_applied = torch.bmm(encoder_vector.transpose(1,2), attn_weights.unsqueeze(-1)).squeeze(2)\n",
    "        \n",
    "        # (B,2H) -> (B,1,2H)\n",
    "        lstm_input = torch.cat([attn_applied, embed], dim=1).unsqueeze(1)\n",
    "                       \n",
    "        # [B,1,2H]\n",
    "        output, (hidden, cell) = self.rnn(lstm_input, (prev_hidden, prev_cell))\n",
    "                \n",
    "        #print('after rnn', output)\n",
    "        output = self.linear(output)\n",
    "        #print('after linear:', output)\n",
    "        output = self.logsoftmax(output)\n",
    "        #print('after softmax', output)\n",
    "        \n",
    "        return output, hidden, cell\n",
    " \n",
    "    \n",
    "    \n",
    "class AttnG2P(nn.Module):\n",
    "    \n",
    "    def __init__(self):\n",
    "        super().__init__()\n",
    "\n",
    "        self.encoder = Encoder(200, 128, 1)\n",
    "        self.decoder = AttentionDecoder(200, 128)     "
   ]
  },
  {
   "cell_type": "code",
   "execution_count": 15,
   "metadata": {},
   "outputs": [],
   "source": [
    "def pad_sos_eos(ys, sos, eos):\n",
    "    \n",
    "    batch_size = len(ys)\n",
    "\n",
    "    sos_tensor = ys.new_zeros((batch_size, 1)).fill_(sos)\n",
    "    y_in = torch.cat([sos_tensor, ys], dim=1)\n",
    "    \n",
    "    y_out = []\n",
    "    \n",
    "    zero_tensor = ys.new_zeros((batch_size, 1))    \n",
    "    extended_ys = torch.cat([ys, zero_tensor], dim=1)\n",
    "    \n",
    "    for y in extended_ys:\n",
    "        eos_idx = (y==0).nonzero()[0].item()\n",
    "        y[eos_idx] = eos        \n",
    "        y_out.append(y)\n",
    "        \n",
    "    y_out = pad_list(y_out)\n",
    "    return y_in, y_out"
   ]
  },
  {
   "cell_type": "code",
   "execution_count": 16,
   "metadata": {},
   "outputs": [],
   "source": [
    "it = iter(loader)\n",
    "batch = next(it)"
   ]
  },
  {
   "cell_type": "code",
   "execution_count": 17,
   "metadata": {},
   "outputs": [
    {
     "data": {
      "text/plain": [
       "(tensor([[52, 74, 57, 72, 63,  0,  0,  0,  0,  0,  0,  0],\n",
       "         [64, 66, 71, 59, 53, 52, 63, 63, 56, 55,  0,  0],\n",
       "         [70, 67, 52, 71, 60, 52, 71, 56,  0,  0,  0,  0],\n",
       "         [69, 56, 56, 55,  0,  0,  0,  0,  0,  0,  0,  0],\n",
       "         [60, 65, 71, 56, 65, 71, 60, 73, 56,  0,  0,  0],\n",
       "         [52, 55, 61, 66, 60, 65, 56, 55,  0,  0,  0,  0],\n",
       "         [64, 56, 71, 52, 64, 66, 69, 67, 59, 60, 70, 64],\n",
       "         [70, 59, 56, 56, 69,  0,  0,  0,  0,  0,  0,  0]]),\n",
       " tensor([[28,  7, 36, 12,  0,  0,  0,  0,  0,  0,  0],\n",
       "         [13, 15, 39,  3, 28, 12,  4,  0,  0,  0,  0],\n",
       "         [17, 16,  6, 32, 35,  9,  6, 32, 18,  0,  0],\n",
       "         [33,  9,  4,  0,  0,  0,  0,  0,  0,  0,  0],\n",
       "         [32, 14, 18, 30, 14, 18, 32, 21,  0,  0,  0],\n",
       "         [29,  5, 28, 32, 14,  4,  0,  0,  0,  0,  0],\n",
       "         [13, 30, 18, 29, 13, 28,  7, 32, 23, 29, 13],\n",
       "         [35, 32, 29,  0,  0,  0,  0,  0,  0,  0,  0]]))"
      ]
     },
     "execution_count": 17,
     "metadata": {},
     "output_type": "execute_result"
    }
   ],
   "source": [
    "batch"
   ]
  },
  {
   "cell_type": "code",
   "execution_count": 34,
   "metadata": {},
   "outputs": [
    {
     "data": {
      "image/png": "[encoded data removed]",
      "text/plain": [
       "<Figure size 1200x800 with 2 Axes>"
      ]
     },
     "metadata": {},
     "output_type": "display_data"
    },
    {
     "name": "stdout",
     "output_type": "stream",
     "text": [
      "Loss\n",
      "\tloss             \t (min:    0.582, max:   58.091, cur:    0.583)\n"
     ]
    }
   ],
   "source": [
    "model = AttnG2P()\n",
    "opt = optim.SGD(model.parameters(), lr=0.05)\n",
    "criterion = nn.NLLLoss(ignore_index=0)\n",
    "\n",
    "it = iter(loader)\n",
    "\n",
    "liveloss = PlotLosses()\n",
    "batch = next(it)\n",
    "\n",
    "for i in range(200):\n",
    "\n",
    "    #batch = next(it)\n",
    "    x, y = batch\n",
    "    #print(x[0])\n",
    "    #print(y[0])\n",
    "    batch_size = x.shape[0]\n",
    "\n",
    "    hidden_output, prev_hidden = model.encoder(x)\n",
    "    prev_cell = x.new_zeros(1, batch_size, 128)\n",
    "\n",
    "    ys_in, ys_out = pad_sos_eos(y, 1, 1)\n",
    "    ys_in = ys_in.transpose(1,0)\n",
    "    ys_out = ys_out.transpose(1,0)\n",
    "\n",
    "    opt.zero_grad()\n",
    "    \n",
    "    loss = 0\n",
    "    log = {}\n",
    "\n",
    "    for i in range(len(ys_in)):\n",
    "        y_in = ys_in[i].view(batch_size, 1)\n",
    "        y_out = ys_out[i]\n",
    "        output, prev_hidden, prev_cell = model.decoder(y_in, hidden_output, prev_hidden, prev_cell)\n",
    "\n",
    "        output = output.squeeze()\n",
    "        #print(y_out.shape)\n",
    "        loss += criterion(output, y_out)\n",
    "\n",
    "    loss.backward()\n",
    "    opt.step()\n",
    "    \n",
    "    log['loss'] = loss.item()\n",
    "    liveloss.update(log)\n",
    "    liveloss.send()"
   ]
  },
  {
   "cell_type": "code",
   "execution_count": 20,
   "metadata": {},
   "outputs": [],
   "source": [
    "a = torch.LongTensor([1,3,2])"
   ]
  },
  {
   "cell_type": "code",
   "execution_count": 23,
   "metadata": {},
   "outputs": [
    {
     "data": {
      "text/plain": [
       "1"
      ]
     },
     "execution_count": 23,
     "metadata": {},
     "output_type": "execute_result"
    }
   ],
   "source": [
    "a.topk(1)[1].item()"
   ]
  },
  {
   "cell_type": "code",
   "execution_count": 37,
   "metadata": {},
   "outputs": [
    {
     "data": {
      "text/plain": [
       "(tensor([[70, 74, 66, 72, 58, 59,  0,  0,  0,  0],\n",
       "         [37, 56, 73, 60, 71, 56,  0,  0,  0,  0],\n",
       "         [54, 60, 69, 69, 59, 66, 70, 60, 70,  0],\n",
       "         [57, 56, 70, 71, 60, 73, 56,  0,  0,  0],\n",
       "         [70, 67, 69, 56, 52, 55, 52, 53, 63, 56],\n",
       "         [70, 52, 64,  0,  0,  0,  0,  0,  0,  0],\n",
       "         [27, 52, 71, 71, 56, 69, 70, 56, 52,  0],\n",
       "         [71, 69, 52, 64, 66, 65, 71, 52, 65, 56]]),\n",
       " tensor([[17, 22,  2, 36,  0,  0,  0,  0,  0,  0],\n",
       "         [12,  9, 21,  2, 32, 18,  0,  0,  0,  0],\n",
       "         [17, 32, 33, 15, 36, 17, 32, 17,  0,  0],\n",
       "         [ 7, 30, 17, 18, 32, 21,  0,  0,  0,  0],\n",
       "         [17, 16, 33, 30,  4, 29,  3, 29, 12,  0],\n",
       "         [17, 24, 13,  0,  0,  0,  0,  0,  0,  0],\n",
       "         [ 3, 24, 18, 29, 17,  9,  0,  0,  0,  0],\n",
       "         [18, 12, 29, 13, 15, 14, 18,  6, 32, 14]]))"
      ]
     },
     "execution_count": 37,
     "metadata": {},
     "output_type": "execute_result"
    }
   ],
   "source": [
    "batch"
   ]
  },
  {
   "cell_type": "code",
   "execution_count": 38,
   "metadata": {},
   "outputs": [
    {
     "name": "stdout",
     "output_type": "stream",
     "text": [
      "[17, 22, 2, 36, 1]\n"
     ]
    }
   ],
   "source": [
    "model.eval()\n",
    "\n",
    "    \n",
    "x = torch.LongTensor([[70, 74, 66, 72, 58, 59,  0,  0,  0,  0]])\n",
    "\n",
    "batch_size = 1\n",
    "\n",
    "encoder_output, prev_hidden = model.encoder(x)\n",
    "prev_cell = prev_hidden.new_zeros((1, batch_size, 128))\n",
    "\n",
    "#print(prev_hidden)\n",
    "\n",
    "#y_in = torch.LongTensor([[1]])\n",
    "y_out = []\n",
    "\n",
    "w = 1\n",
    "\n",
    "while(True):\n",
    "    y_in = torch.LongTensor([[w]])\n",
    "    output, prev_hidden, prev_cell = model.decoder(y_in, encoder_output, prev_hidden, prev_cell)\n",
    "    output = output.squeeze()\n",
    "    #print(output)\n",
    "    w = output.data.topk(1)[1].item()\n",
    "    y_out.append(w)\n",
    "    \n",
    "    if w == 1 or len(y_out)>10:\n",
    "        break\n",
    "\n",
    "print(y_out)"
   ]
  },
  {
   "cell_type": "code",
   "execution_count": 43,
   "metadata": {},
   "outputs": [
    {
     "data": {
      "image/png": "[encoded data removed]",
      "text/plain": [
       "<Figure size 1200x800 with 2 Axes>"
      ]
     },
     "metadata": {},
     "output_type": "display_data"
    },
    {
     "name": "stdout",
     "output_type": "stream",
     "text": [
      "Loss\n",
      "\tloss             \t (min:    0.036, max:   10.621, cur:    0.036)\n"
     ]
    }
   ],
   "source": [
    "model = G2P()\n",
    "opt = optim.SGD(model.parameters(), lr=0.05)\n",
    "criterion = nn.NLLLoss(ignore_index=0)\n",
    "\n",
    "#it = iter(loader)\n",
    "\n",
    "liveloss = PlotLosses()\n",
    "\n",
    "batch = (torch.LongTensor([[2], [3]]), torch.LongTensor([[2], [3]]))\n",
    "\n",
    "for i in range(200):\n",
    "\n",
    "    #batch = next(it)\n",
    "    x, y = batch\n",
    "    #print(x[0])\n",
    "    #print(y[0])\n",
    "    batch_size = x.shape[0]\n",
    "\n",
    "    output, prev_hidden = model.encoder(x)\n",
    "    prev_cell = x.new_zeros(1, batch_size, 128)\n",
    "\n",
    "    ys_in, ys_out = pad_sos_eos(y, 1, 1)\n",
    "    ys_in = ys_in.transpose(1,0)\n",
    "    ys_out = ys_out.transpose(1,0)\n",
    "\n",
    "    opt.zero_grad()\n",
    "    \n",
    "    loss = 0\n",
    "    log = {}\n",
    "\n",
    "    for i in range(len(ys_in)):\n",
    "        y_in = ys_in[i].view(batch_size, 1)\n",
    "        y_out = ys_out[i]\n",
    "        output, prev_hidden, prev_cell = model.decoder(y_in, prev_hidden, prev_cell)\n",
    "\n",
    "        output = output.squeeze()\n",
    "        #print(y_out.shape)\n",
    "        loss += criterion(output, y_out)\n",
    "\n",
    "    loss.backward()\n",
    "    opt.step()\n",
    "    \n",
    "    log['loss'] = loss.item()\n",
    "    liveloss.update(log)\n",
    "    liveloss.send()"
   ]
  }
 ],
 "metadata": {
  "kernelspec": {
   "display_name": "Python 3",
   "language": "python",
   "name": "python3"
  },
  "language_info": {
   "codemirror_mode": {
    "name": "ipython",
    "version": 3
   },
   "file_extension": ".py",
   "mimetype": "text/x-python",
   "name": "python",
   "nbconvert_exporter": "python",
   "pygments_lexer": "ipython3",
   "version": "3.7.4"
  }
 },
 "nbformat": 4,
 "nbformat_minor": 4
}
